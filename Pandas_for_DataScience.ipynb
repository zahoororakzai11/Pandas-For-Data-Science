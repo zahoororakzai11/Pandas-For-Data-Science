{
 "cells": [
  {
   "cell_type": "code",
   "execution_count": 15,
   "id": "66174aee-5c1e-4195-9d52-d1deb5b259b8",
   "metadata": {
    "tags": []
   },
   "outputs": [],
   "source": [
    "#two-dimensional list,tuple,or Numpy array or dictionary or \n",
    "#pandas Series\n",
    "import pandas as pd"
   ]
  },
  {
   "cell_type": "code",
   "execution_count": 16,
   "id": "ef58f404-781a-4440-8120-8560af2d8c11",
   "metadata": {},
   "outputs": [],
   "source": [
    "data = {\n",
    "    'name':['Xavier','Ann','Jana','Yi','Robin','Amal','Nori'],\n",
    "    'city':['Mexico City','Toronto','Prague','Shanghai','Manchester','Cairo','Osaka'],\n",
    "    'age':[41,28,33,34,38,31,37],\n",
    "    'py-score':[88.0,79.0,81.0,80.0,68.0,61.0,84.0]\n",
    "}\n",
    "row_labels = [101,102,103,104,105,106,107]"
   ]
  },
  {
   "cell_type": "markdown",
   "id": "9bbad1ee-edc2-4aac-8336-351e184f1eb2",
   "metadata": {},
   "source": [
    "### Creat Data Set"
   ]
  },
  {
   "cell_type": "code",
   "execution_count": 30,
   "id": "733d3b11-8786-4be1-83ea-8f42dce0417f",
   "metadata": {
    "tags": []
   },
   "outputs": [
    {
     "data": {
      "text/html": [
       "<div>\n",
       "<style scoped>\n",
       "    .dataframe tbody tr th:only-of-type {\n",
       "        vertical-align: middle;\n",
       "    }\n",
       "\n",
       "    .dataframe tbody tr th {\n",
       "        vertical-align: top;\n",
       "    }\n",
       "\n",
       "    .dataframe thead th {\n",
       "        text-align: right;\n",
       "    }\n",
       "</style>\n",
       "<table border=\"1\" class=\"dataframe\">\n",
       "  <thead>\n",
       "    <tr style=\"text-align: right;\">\n",
       "      <th></th>\n",
       "      <th>name</th>\n",
       "      <th>city</th>\n",
       "      <th>age</th>\n",
       "      <th>py-score</th>\n",
       "    </tr>\n",
       "  </thead>\n",
       "  <tbody>\n",
       "    <tr>\n",
       "      <th>101</th>\n",
       "      <td>Xavier</td>\n",
       "      <td>Mexico City</td>\n",
       "      <td>41</td>\n",
       "      <td>88.0</td>\n",
       "    </tr>\n",
       "    <tr>\n",
       "      <th>102</th>\n",
       "      <td>Ann</td>\n",
       "      <td>Toronto</td>\n",
       "      <td>28</td>\n",
       "      <td>79.0</td>\n",
       "    </tr>\n",
       "    <tr>\n",
       "      <th>103</th>\n",
       "      <td>Jana</td>\n",
       "      <td>Prague</td>\n",
       "      <td>33</td>\n",
       "      <td>81.0</td>\n",
       "    </tr>\n",
       "    <tr>\n",
       "      <th>104</th>\n",
       "      <td>Yi</td>\n",
       "      <td>Shanghai</td>\n",
       "      <td>34</td>\n",
       "      <td>80.0</td>\n",
       "    </tr>\n",
       "    <tr>\n",
       "      <th>105</th>\n",
       "      <td>Robin</td>\n",
       "      <td>Manchester</td>\n",
       "      <td>38</td>\n",
       "      <td>68.0</td>\n",
       "    </tr>\n",
       "    <tr>\n",
       "      <th>106</th>\n",
       "      <td>Amal</td>\n",
       "      <td>Cairo</td>\n",
       "      <td>31</td>\n",
       "      <td>61.0</td>\n",
       "    </tr>\n",
       "    <tr>\n",
       "      <th>107</th>\n",
       "      <td>Nori</td>\n",
       "      <td>Osaka</td>\n",
       "      <td>37</td>\n",
       "      <td>84.0</td>\n",
       "    </tr>\n",
       "  </tbody>\n",
       "</table>\n",
       "</div>"
      ],
      "text/plain": [
       "       name         city  age  py-score\n",
       "101  Xavier  Mexico City   41      88.0\n",
       "102     Ann      Toronto   28      79.0\n",
       "103    Jana       Prague   33      81.0\n",
       "104      Yi     Shanghai   34      80.0\n",
       "105   Robin   Manchester   38      68.0\n",
       "106    Amal        Cairo   31      61.0\n",
       "107    Nori        Osaka   37      84.0"
      ]
     },
     "execution_count": 30,
     "metadata": {},
     "output_type": "execute_result"
    }
   ],
   "source": [
    "df = pd.DataFrame(data = data, index = row_labels)\n",
    "df\n",
    "#create CSV file data data.csv\n",
    "df.to_csv('data.csv')\n",
    "pd.read_csv('data.csv',index_col = 0)"
   ]
  },
  {
   "cell_type": "markdown",
   "id": "39d84b96-82c7-4a6e-8311-7e19ae4dac9f",
   "metadata": {
    "tags": []
   },
   "source": [
    "### Retrieving Lables and Data\n",
    "retrieve and modify row and columns lables as sequences\n",
    "Presenet data as numpy arrays\n",
    ",check and adjust the data types\n",
    "and the size of dataFrame objects"
   ]
  },
  {
   "cell_type": "code",
   "execution_count": 32,
   "id": "df11728c-eb1a-4e3b-b386-b71ce90f3ddc",
   "metadata": {
    "tags": []
   },
   "outputs": [
    {
     "data": {
      "text/plain": [
       "Index(['name', 'city', 'age', 'py-score'], dtype='object')"
      ]
     },
     "execution_count": 32,
     "metadata": {},
     "output_type": "execute_result"
    }
   ],
   "source": [
    "##Pandas DataFrame Labels as Sequences\n",
    "#row lables\n",
    "df.index\n",
    "# columns labels\n",
    "df.columns"
   ]
  },
  {
   "cell_type": "code",
   "execution_count": 36,
   "id": "6c6be8d1-b838-4804-a370-ade21436f397",
   "metadata": {
    "tags": []
   },
   "outputs": [
    {
     "data": {
      "text/html": [
       "<div>\n",
       "<style scoped>\n",
       "    .dataframe tbody tr th:only-of-type {\n",
       "        vertical-align: middle;\n",
       "    }\n",
       "\n",
       "    .dataframe tbody tr th {\n",
       "        vertical-align: top;\n",
       "    }\n",
       "\n",
       "    .dataframe thead th {\n",
       "        text-align: right;\n",
       "    }\n",
       "</style>\n",
       "<table border=\"1\" class=\"dataframe\">\n",
       "  <thead>\n",
       "    <tr style=\"text-align: right;\">\n",
       "      <th></th>\n",
       "      <th>name</th>\n",
       "      <th>city</th>\n",
       "      <th>age</th>\n",
       "      <th>py-score</th>\n",
       "    </tr>\n",
       "  </thead>\n",
       "  <tbody>\n",
       "    <tr>\n",
       "      <th>10</th>\n",
       "      <td>Xavier</td>\n",
       "      <td>Mexico City</td>\n",
       "      <td>41</td>\n",
       "      <td>88.0</td>\n",
       "    </tr>\n",
       "    <tr>\n",
       "      <th>11</th>\n",
       "      <td>Ann</td>\n",
       "      <td>Toronto</td>\n",
       "      <td>28</td>\n",
       "      <td>79.0</td>\n",
       "    </tr>\n",
       "    <tr>\n",
       "      <th>12</th>\n",
       "      <td>Jana</td>\n",
       "      <td>Prague</td>\n",
       "      <td>33</td>\n",
       "      <td>81.0</td>\n",
       "    </tr>\n",
       "    <tr>\n",
       "      <th>13</th>\n",
       "      <td>Yi</td>\n",
       "      <td>Shanghai</td>\n",
       "      <td>34</td>\n",
       "      <td>80.0</td>\n",
       "    </tr>\n",
       "    <tr>\n",
       "      <th>14</th>\n",
       "      <td>Robin</td>\n",
       "      <td>Manchester</td>\n",
       "      <td>38</td>\n",
       "      <td>68.0</td>\n",
       "    </tr>\n",
       "    <tr>\n",
       "      <th>15</th>\n",
       "      <td>Amal</td>\n",
       "      <td>Cairo</td>\n",
       "      <td>31</td>\n",
       "      <td>61.0</td>\n",
       "    </tr>\n",
       "    <tr>\n",
       "      <th>16</th>\n",
       "      <td>Nori</td>\n",
       "      <td>Osaka</td>\n",
       "      <td>37</td>\n",
       "      <td>84.0</td>\n",
       "    </tr>\n",
       "  </tbody>\n",
       "</table>\n",
       "</div>"
      ],
      "text/plain": [
       "      name         city  age  py-score\n",
       "10  Xavier  Mexico City   41      88.0\n",
       "11     Ann      Toronto   28      79.0\n",
       "12    Jana       Prague   33      81.0\n",
       "13      Yi     Shanghai   34      80.0\n",
       "14   Robin   Manchester   38      68.0\n",
       "15    Amal        Cairo   31      61.0\n",
       "16    Nori        Osaka   37      84.0"
      ]
     },
     "execution_count": 36,
     "metadata": {},
     "output_type": "execute_result"
    }
   ],
   "source": [
    "#To iterate over DataFrame, we use np.arange() method\n",
    "df.index = np.arange(10,17)\n",
    "df.index #will print index from 10 to 16\n",
    "df"
   ]
  },
  {
   "cell_type": "markdown",
   "id": "ed98dee5-8d55-4cfe-86a6-80a0967cbc59",
   "metadata": {},
   "source": [
    "## Data as Numpy Arrays\n",
    "Some time you need to extract data from Pandas DataFrame without labels.To get Numpy array with unlablels data, can use to_numpy() or .values() method\n"
   ]
  },
  {
   "cell_type": "code",
   "execution_count": 44,
   "id": "4e2aeaea-6da2-43da-98b1-a5f921b5ac85",
   "metadata": {
    "tags": []
   },
   "outputs": [
    {
     "data": {
      "text/plain": [
       "array([['Xavier', 'Mexico City', 41, 88.0],\n",
       "       ['Ann', 'Toronto', 28, 79.0],\n",
       "       ['Jana', 'Prague', 33, 81.0],\n",
       "       ['Yi', 'Shanghai', 34, 80.0],\n",
       "       ['Robin', 'Manchester', 38, 68.0],\n",
       "       ['Amal', 'Cairo', 31, 61.0],\n",
       "       ['Nori', 'Osaka', 37, 84.0]], dtype=object)"
      ]
     },
     "execution_count": 44,
     "metadata": {},
     "output_type": "execute_result"
    }
   ],
   "source": [
    "df.to_numpy() #print values in array form\n",
    "#df.values\n"
   ]
  },
  {
   "cell_type": "markdown",
   "id": "0b607014-5710-4139-a53c-fddfe06fabff",
   "metadata": {},
   "source": [
    "# Data Types\n",
    "The types of the data values, also called data types or dtypes, are important because they determine the amount of memory your DataFrame uses, as well as its calculation speed and level of precision.\n",
    "\n",
    "pandas relies heavily on NumPy data types. However, pandas 1.0 introduced some additional types:\n",
    "\n",
    "    BooleanDtype and BooleanArray support missing Boolean values and Kleene three-value logic.\n",
    "    StringDtype and StringArray represent a dedicated string type.\n",
    "\n",
    "You can get the data types for each column of a pandas DataFrame with .dtypes:"
   ]
  },
  {
   "cell_type": "code",
   "execution_count": 45,
   "id": "9f2a7926-c08f-45a8-96da-ef095c77eaa4",
   "metadata": {
    "tags": []
   },
   "outputs": [
    {
     "data": {
      "text/plain": [
       "name         object\n",
       "city         object\n",
       "age           int32\n",
       "py-score    float32\n",
       "dtype: object"
      ]
     },
     "execution_count": 45,
     "metadata": {},
     "output_type": "execute_result"
    }
   ],
   "source": [
    "#to modify the data type of one or more columns,then use .astype()\n",
    "df_ = df.astype(dtype = {'age':np.int32,'py-score':np.float32})\n",
    "df_.dtypes"
   ]
  },
  {
   "cell_type": "markdown",
   "id": "818d55cc-cc12-4b49-8cf0-a53e2ee23360",
   "metadata": {},
   "source": [
    "## Pandas DataFrame Size\n",
    "The attributes .ndim, .size, and .shape return the number of dimensions, number of data values across each dimension, and total number of data values, respectively:"
   ]
  },
  {
   "cell_type": "code",
   "execution_count": 50,
   "id": "11bd9c79-2276-4188-900f-92a278c62d99",
   "metadata": {
    "tags": []
   },
   "outputs": [
    {
     "data": {
      "text/plain": [
       "Index       56\n",
       "name        56\n",
       "city        56\n",
       "age         28\n",
       "py-score    28\n",
       "dtype: int64"
      ]
     },
     "execution_count": 50,
     "metadata": {},
     "output_type": "execute_result"
    }
   ],
   "source": [
    "#.ndim,.size and .shape method\n",
    "df_.ndim #dataset have two dimension(row and columns),so return 2\n",
    "df_.shape #print shape of Dataset,return tuple with number of rows\n",
    "df_.size\n",
    "#.memory_usage(), memory used by each columns\n",
    "df_.memory_usage()"
   ]
  },
  {
   "cell_type": "markdown",
   "id": "3380509c-2b31-4af8-b00e-2bb57847b0a2",
   "metadata": {},
   "source": [
    "### Accessing and Modifying Data\n",
    "pandas has four accessors in total:\n",
    "\n",
    "    .loc[] accepts the labels of rows and columns and returns Series or DataFrames. You can use it to get entire rows or columns, as well as their parts.\n",
    "\n",
    "    .iloc[] accepts the zero-based indices of rows and columns and returns Series or DataFrames. You can use it to get entire rows or columns, or their parts.\n",
    "\n",
    "    .at[] accepts the labels of rows and columns and returns a single data value.\n",
    "\n",
    "    .iat[] accepts the zero-based indices of rows and columns and returns a single data value.\n"
   ]
  },
  {
   "cell_type": "code",
   "execution_count": 55,
   "id": "a3714064-6121-4596-9b09-f4b8824bbc6c",
   "metadata": {
    "tags": []
   },
   "outputs": [
    {
     "data": {
      "text/plain": [
       "10    Mexico City\n",
       "11        Toronto\n",
       "12         Prague\n",
       "13       Shanghai\n",
       "14     Manchester\n",
       "15          Cairo\n",
       "16          Osaka\n",
       "Name: city, dtype: object"
      ]
     },
     "execution_count": 55,
     "metadata": {},
     "output_type": "execute_result"
    }
   ],
   "source": [
    "#df['name']\n",
    "df.loc[:,'city']\n",
    "df.iloc[:,1]"
   ]
  },
  {
   "cell_type": "code",
   "execution_count": 62,
   "id": "2c16e79e-857d-4072-9047-b1b80275b5ea",
   "metadata": {
    "tags": []
   },
   "outputs": [
    {
     "data": {
      "text/plain": [
       "11     Ann\n",
       "13      Yi\n",
       "15    Amal\n",
       "Name: name, dtype: object"
      ]
     },
     "execution_count": 62,
     "metadata": {},
     "output_type": "execute_result"
    }
   ],
   "source": [
    "#instead of indices to get multiple rows or columns\n",
    "df.loc[11:15,['name','city']]\n",
    "df.iloc[1:6,[0,1]]\n",
    "df.iloc[1:6:2,0]\n",
    "#instead of this use slice method\n",
    "df.iloc[slice(1,6,2),0]"
   ]
  },
  {
   "cell_type": "code",
   "execution_count": 76,
   "id": "b5415395-c757-4f12-852d-3a89abc7c8a5",
   "metadata": {
    "tags": []
   },
   "outputs": [
    {
     "data": {
      "text/plain": [
       "10    40.0\n",
       "11    50.0\n",
       "12    60.0\n",
       "13    70.0\n",
       "14     0.0\n",
       "15     0.0\n",
       "16     0.0\n",
       "Name: py-score, dtype: float64"
      ]
     },
     "execution_count": 76,
     "metadata": {},
     "output_type": "execute_result"
    }
   ],
   "source": [
    "df.at[12,'name'] # get name at index 12\n",
    "df.loc[:,'py-score']\n",
    "df.loc[:13,'py-score'] = [40,50,60,70] #set four items in the columns\n",
    "df.loc[14:,'py-score'] = 0 #set the remaining values in this columns to 0\n",
    "df['py-score']"
   ]
  },
  {
   "cell_type": "code",
   "execution_count": 77,
   "id": "57179cde-f232-4398-b041-33647e57fbe7",
   "metadata": {
    "tags": []
   },
   "outputs": [
    {
     "data": {
      "text/plain": [
       "10    40.0\n",
       "11    50.0\n",
       "12    60.0\n",
       "13    70.0\n",
       "14     0.0\n",
       "15     0.0\n",
       "16     0.0\n",
       "Name: py-score, dtype: float64"
      ]
     },
     "execution_count": 77,
     "metadata": {},
     "output_type": "execute_result"
    }
   ],
   "source": [
    "#use negative indices with .loc[] to modify data\n",
    "df.loc[:,-1] = np.array([88.0,79.0,81.0,80.0,68.0,61,84.0])\n",
    "df['py-score']"
   ]
  },
  {
   "cell_type": "markdown",
   "id": "949bd4d3-66b8-4f0a-91a4-3e7b0c2cfdc2",
   "metadata": {},
   "source": [
    "### Inserting and deleting Data\n",
    "pandas provide several convenient techniques for inserting and deleting row and columns"
   ]
  },
  {
   "cell_type": "code",
   "execution_count": 130,
   "id": "a52a9113-9363-42e8-85d6-a6aeb326e3d0",
   "metadata": {
    "tags": []
   },
   "outputs": [
    {
     "data": {
      "text/html": [
       "<div>\n",
       "<style scoped>\n",
       "    .dataframe tbody tr th:only-of-type {\n",
       "        vertical-align: middle;\n",
       "    }\n",
       "\n",
       "    .dataframe tbody tr th {\n",
       "        vertical-align: top;\n",
       "    }\n",
       "\n",
       "    .dataframe thead th {\n",
       "        text-align: right;\n",
       "    }\n",
       "</style>\n",
       "<table border=\"1\" class=\"dataframe\">\n",
       "  <thead>\n",
       "    <tr style=\"text-align: right;\">\n",
       "      <th></th>\n",
       "      <th>name</th>\n",
       "      <th>city</th>\n",
       "      <th>py-score</th>\n",
       "      <th>django-score</th>\n",
       "      <th>-1</th>\n",
       "      <th>0</th>\n",
       "      <th>1</th>\n",
       "      <th>2</th>\n",
       "      <th>3</th>\n",
       "      <th>js-score</th>\n",
       "      <th>total-score</th>\n",
       "      <th>total</th>\n",
       "    </tr>\n",
       "  </thead>\n",
       "  <tbody>\n",
       "    <tr>\n",
       "      <th>0</th>\n",
       "      <td>Xavier</td>\n",
       "      <td>Mexico City</td>\n",
       "      <td>40.0</td>\n",
       "      <td>86</td>\n",
       "      <td>88.0</td>\n",
       "      <td>NaN</td>\n",
       "      <td>NaN</td>\n",
       "      <td>NaN</td>\n",
       "      <td>NaN</td>\n",
       "      <td>71.0</td>\n",
       "      <td>0.0</td>\n",
       "      <td>63.1</td>\n",
       "    </tr>\n",
       "    <tr>\n",
       "      <th>1</th>\n",
       "      <td>Ann</td>\n",
       "      <td>Toronto</td>\n",
       "      <td>50.0</td>\n",
       "      <td>81</td>\n",
       "      <td>79.0</td>\n",
       "      <td>NaN</td>\n",
       "      <td>NaN</td>\n",
       "      <td>NaN</td>\n",
       "      <td>NaN</td>\n",
       "      <td>95.0</td>\n",
       "      <td>0.0</td>\n",
       "      <td>72.8</td>\n",
       "    </tr>\n",
       "    <tr>\n",
       "      <th>2</th>\n",
       "      <td>Jana</td>\n",
       "      <td>Prague</td>\n",
       "      <td>60.0</td>\n",
       "      <td>88</td>\n",
       "      <td>81.0</td>\n",
       "      <td>NaN</td>\n",
       "      <td>NaN</td>\n",
       "      <td>NaN</td>\n",
       "      <td>NaN</td>\n",
       "      <td>88.0</td>\n",
       "      <td>0.0</td>\n",
       "      <td>76.8</td>\n",
       "    </tr>\n",
       "    <tr>\n",
       "      <th>3</th>\n",
       "      <td>Yi</td>\n",
       "      <td>Shanghai</td>\n",
       "      <td>70.0</td>\n",
       "      <td>74</td>\n",
       "      <td>80.0</td>\n",
       "      <td>NaN</td>\n",
       "      <td>NaN</td>\n",
       "      <td>NaN</td>\n",
       "      <td>NaN</td>\n",
       "      <td>79.0</td>\n",
       "      <td>0.0</td>\n",
       "      <td>73.9</td>\n",
       "    </tr>\n",
       "    <tr>\n",
       "      <th>4</th>\n",
       "      <td>Robin</td>\n",
       "      <td>Manchester</td>\n",
       "      <td>0.0</td>\n",
       "      <td>70</td>\n",
       "      <td>68.0</td>\n",
       "      <td>NaN</td>\n",
       "      <td>NaN</td>\n",
       "      <td>NaN</td>\n",
       "      <td>NaN</td>\n",
       "      <td>91.0</td>\n",
       "      <td>0.0</td>\n",
       "      <td>48.3</td>\n",
       "    </tr>\n",
       "    <tr>\n",
       "      <th>5</th>\n",
       "      <td>Amal</td>\n",
       "      <td>Cairo</td>\n",
       "      <td>0.0</td>\n",
       "      <td>81</td>\n",
       "      <td>61.0</td>\n",
       "      <td>NaN</td>\n",
       "      <td>NaN</td>\n",
       "      <td>NaN</td>\n",
       "      <td>NaN</td>\n",
       "      <td>91.0</td>\n",
       "      <td>0.0</td>\n",
       "      <td>51.6</td>\n",
       "    </tr>\n",
       "    <tr>\n",
       "      <th>6</th>\n",
       "      <td>Nori</td>\n",
       "      <td>Osaka</td>\n",
       "      <td>0.0</td>\n",
       "      <td>90</td>\n",
       "      <td>84.0</td>\n",
       "      <td>NaN</td>\n",
       "      <td>NaN</td>\n",
       "      <td>NaN</td>\n",
       "      <td>NaN</td>\n",
       "      <td>80.0</td>\n",
       "      <td>0.0</td>\n",
       "      <td>51.0</td>\n",
       "    </tr>\n",
       "  </tbody>\n",
       "</table>\n",
       "</div>"
      ],
      "text/plain": [
       "     name         city  py-score  django-score    -1    0    1   2   3  \\\n",
       "0  Xavier  Mexico City      40.0            86  88.0  NaN  NaN NaN NaN   \n",
       "1     Ann      Toronto      50.0            81  79.0  NaN  NaN NaN NaN   \n",
       "2    Jana       Prague      60.0            88  81.0  NaN  NaN NaN NaN   \n",
       "3      Yi     Shanghai      70.0            74  80.0  NaN  NaN NaN NaN   \n",
       "4   Robin   Manchester       0.0            70  68.0  NaN  NaN NaN NaN   \n",
       "5    Amal        Cairo       0.0            81  61.0  NaN  NaN NaN NaN   \n",
       "6    Nori        Osaka       0.0            90  84.0  NaN  NaN NaN NaN   \n",
       "\n",
       "   js-score  total-score  total  \n",
       "0      71.0          0.0   63.1  \n",
       "1      95.0          0.0   72.8  \n",
       "2      88.0          0.0   76.8  \n",
       "3      79.0          0.0   73.9  \n",
       "4      91.0          0.0   48.3  \n",
       "5      91.0          0.0   51.6  \n",
       "6      80.0          0.0   51.0  "
      ]
     },
     "execution_count": 130,
     "metadata": {},
     "output_type": "execute_result"
    }
   ],
   "source": [
    "df['js-score'] = np.array([71.0, 95.0, 88.0, 79.0, 91.0, 91.0, 80.0])\n",
    "df['total-score'] = 0.0\n",
    "\n",
    "#insert columns at specific location\n",
    "#df.insert(loc = 4, column = 'django-score',value = np.array([86,81,88,74,70,81,90]))\n",
    "#df = df.drop(labels = 'age',axis = 1)\n",
    "\n",
    "df['total'] =\\\n",
    "    0.4 * df['py-score'] + 0.3 * df['django-score'] + 0.3 * df['js-score']\n",
    "df\n"
   ]
  },
  {
   "cell_type": "markdown",
   "id": "4cb44448-9be0-465f-82d0-7385fd561853",
   "metadata": {},
   "source": [
    "### Sorting a Pandas DataFrame\n",
    "You can sort a pandas DataFrame with .sort_values():"
   ]
  },
  {
   "cell_type": "code",
   "execution_count": 137,
   "id": "2c0cf0d8-f672-45df-893b-48ac0d779323",
   "metadata": {
    "tags": []
   },
   "outputs": [
    {
     "data": {
      "text/html": [
       "<div>\n",
       "<style scoped>\n",
       "    .dataframe tbody tr th:only-of-type {\n",
       "        vertical-align: middle;\n",
       "    }\n",
       "\n",
       "    .dataframe tbody tr th {\n",
       "        vertical-align: top;\n",
       "    }\n",
       "\n",
       "    .dataframe thead th {\n",
       "        text-align: right;\n",
       "    }\n",
       "</style>\n",
       "<table border=\"1\" class=\"dataframe\">\n",
       "  <thead>\n",
       "    <tr style=\"text-align: right;\">\n",
       "      <th></th>\n",
       "      <th>name</th>\n",
       "      <th>city</th>\n",
       "      <th>py-score</th>\n",
       "      <th>django-score</th>\n",
       "      <th>-1</th>\n",
       "      <th>0</th>\n",
       "      <th>1</th>\n",
       "      <th>2</th>\n",
       "      <th>3</th>\n",
       "      <th>js-score</th>\n",
       "      <th>total-score</th>\n",
       "      <th>total</th>\n",
       "    </tr>\n",
       "  </thead>\n",
       "  <tbody>\n",
       "    <tr>\n",
       "      <th>4</th>\n",
       "      <td>Robin</td>\n",
       "      <td>Manchester</td>\n",
       "      <td>0.0</td>\n",
       "      <td>70</td>\n",
       "      <td>68.0</td>\n",
       "      <td>NaN</td>\n",
       "      <td>NaN</td>\n",
       "      <td>NaN</td>\n",
       "      <td>NaN</td>\n",
       "      <td>91.0</td>\n",
       "      <td>0.0</td>\n",
       "      <td>48.3</td>\n",
       "    </tr>\n",
       "    <tr>\n",
       "      <th>6</th>\n",
       "      <td>Nori</td>\n",
       "      <td>Osaka</td>\n",
       "      <td>0.0</td>\n",
       "      <td>90</td>\n",
       "      <td>84.0</td>\n",
       "      <td>NaN</td>\n",
       "      <td>NaN</td>\n",
       "      <td>NaN</td>\n",
       "      <td>NaN</td>\n",
       "      <td>80.0</td>\n",
       "      <td>0.0</td>\n",
       "      <td>51.0</td>\n",
       "    </tr>\n",
       "    <tr>\n",
       "      <th>5</th>\n",
       "      <td>Amal</td>\n",
       "      <td>Cairo</td>\n",
       "      <td>0.0</td>\n",
       "      <td>81</td>\n",
       "      <td>61.0</td>\n",
       "      <td>NaN</td>\n",
       "      <td>NaN</td>\n",
       "      <td>NaN</td>\n",
       "      <td>NaN</td>\n",
       "      <td>91.0</td>\n",
       "      <td>0.0</td>\n",
       "      <td>51.6</td>\n",
       "    </tr>\n",
       "    <tr>\n",
       "      <th>0</th>\n",
       "      <td>Xavier</td>\n",
       "      <td>Mexico City</td>\n",
       "      <td>40.0</td>\n",
       "      <td>86</td>\n",
       "      <td>88.0</td>\n",
       "      <td>NaN</td>\n",
       "      <td>NaN</td>\n",
       "      <td>NaN</td>\n",
       "      <td>NaN</td>\n",
       "      <td>71.0</td>\n",
       "      <td>0.0</td>\n",
       "      <td>63.1</td>\n",
       "    </tr>\n",
       "    <tr>\n",
       "      <th>1</th>\n",
       "      <td>Ann</td>\n",
       "      <td>Toronto</td>\n",
       "      <td>50.0</td>\n",
       "      <td>81</td>\n",
       "      <td>79.0</td>\n",
       "      <td>NaN</td>\n",
       "      <td>NaN</td>\n",
       "      <td>NaN</td>\n",
       "      <td>NaN</td>\n",
       "      <td>95.0</td>\n",
       "      <td>0.0</td>\n",
       "      <td>72.8</td>\n",
       "    </tr>\n",
       "    <tr>\n",
       "      <th>3</th>\n",
       "      <td>Yi</td>\n",
       "      <td>Shanghai</td>\n",
       "      <td>70.0</td>\n",
       "      <td>74</td>\n",
       "      <td>80.0</td>\n",
       "      <td>NaN</td>\n",
       "      <td>NaN</td>\n",
       "      <td>NaN</td>\n",
       "      <td>NaN</td>\n",
       "      <td>79.0</td>\n",
       "      <td>0.0</td>\n",
       "      <td>73.9</td>\n",
       "    </tr>\n",
       "    <tr>\n",
       "      <th>2</th>\n",
       "      <td>Jana</td>\n",
       "      <td>Prague</td>\n",
       "      <td>60.0</td>\n",
       "      <td>88</td>\n",
       "      <td>81.0</td>\n",
       "      <td>NaN</td>\n",
       "      <td>NaN</td>\n",
       "      <td>NaN</td>\n",
       "      <td>NaN</td>\n",
       "      <td>88.0</td>\n",
       "      <td>0.0</td>\n",
       "      <td>76.8</td>\n",
       "    </tr>\n",
       "  </tbody>\n",
       "</table>\n",
       "</div>"
      ],
      "text/plain": [
       "     name         city  py-score  django-score    -1    0    1   2   3  \\\n",
       "4   Robin   Manchester       0.0            70  68.0  NaN  NaN NaN NaN   \n",
       "6    Nori        Osaka       0.0            90  84.0  NaN  NaN NaN NaN   \n",
       "5    Amal        Cairo       0.0            81  61.0  NaN  NaN NaN NaN   \n",
       "0  Xavier  Mexico City      40.0            86  88.0  NaN  NaN NaN NaN   \n",
       "1     Ann      Toronto      50.0            81  79.0  NaN  NaN NaN NaN   \n",
       "3      Yi     Shanghai      70.0            74  80.0  NaN  NaN NaN NaN   \n",
       "2    Jana       Prague      60.0            88  81.0  NaN  NaN NaN NaN   \n",
       "\n",
       "   js-score  total-score  total  \n",
       "4      91.0          0.0   48.3  \n",
       "6      80.0          0.0   51.0  \n",
       "5      91.0          0.0   51.6  \n",
       "0      71.0          0.0   63.1  \n",
       "1      95.0          0.0   72.8  \n",
       "3      79.0          0.0   73.9  \n",
       "2      88.0          0.0   76.8  "
      ]
     },
     "execution_count": 137,
     "metadata": {},
     "output_type": "execute_result"
    }
   ],
   "source": [
    "df.sort_values(by= 'js-score',ascending = False)\n",
    "#sort row in axis= 0 or columns axis = 1\n",
    "df.sort_values (by=['total','py-score'], ascending = [True,False],inplace = True)\n",
    "df"
   ]
  },
  {
   "cell_type": "markdown",
   "id": "c9d54f57-bb28-4536-9edb-daf4109c5a1b",
   "metadata": {},
   "source": [
    "## Filtering Data\n",
    "Data filtering is another powerful feature of pandas. It works similarly to indexing with Boolean arrays in NumPy.\n",
    "\n",
    "If you apply some logical operation on a Series object, then you’ll get another Series with the Boolean values True and False:"
   ]
  },
  {
   "cell_type": "code",
   "execution_count": 140,
   "id": "9e994947-379f-484d-a22f-dc5983fb550e",
   "metadata": {
    "tags": []
   },
   "outputs": [
    {
     "data": {
      "text/html": [
       "<div>\n",
       "<style scoped>\n",
       "    .dataframe tbody tr th:only-of-type {\n",
       "        vertical-align: middle;\n",
       "    }\n",
       "\n",
       "    .dataframe tbody tr th {\n",
       "        vertical-align: top;\n",
       "    }\n",
       "\n",
       "    .dataframe thead th {\n",
       "        text-align: right;\n",
       "    }\n",
       "</style>\n",
       "<table border=\"1\" class=\"dataframe\">\n",
       "  <thead>\n",
       "    <tr style=\"text-align: right;\">\n",
       "      <th></th>\n",
       "      <th>name</th>\n",
       "      <th>city</th>\n",
       "      <th>py-score</th>\n",
       "      <th>django-score</th>\n",
       "      <th>-1</th>\n",
       "      <th>0</th>\n",
       "      <th>1</th>\n",
       "      <th>2</th>\n",
       "      <th>3</th>\n",
       "      <th>js-score</th>\n",
       "      <th>total-score</th>\n",
       "      <th>total</th>\n",
       "    </tr>\n",
       "  </thead>\n",
       "  <tbody>\n",
       "    <tr>\n",
       "      <th>6</th>\n",
       "      <td>Nori</td>\n",
       "      <td>Osaka</td>\n",
       "      <td>0.0</td>\n",
       "      <td>90</td>\n",
       "      <td>84.0</td>\n",
       "      <td>NaN</td>\n",
       "      <td>NaN</td>\n",
       "      <td>NaN</td>\n",
       "      <td>NaN</td>\n",
       "      <td>80.0</td>\n",
       "      <td>0.0</td>\n",
       "      <td>51.0</td>\n",
       "    </tr>\n",
       "    <tr>\n",
       "      <th>5</th>\n",
       "      <td>Amal</td>\n",
       "      <td>Cairo</td>\n",
       "      <td>0.0</td>\n",
       "      <td>81</td>\n",
       "      <td>61.0</td>\n",
       "      <td>NaN</td>\n",
       "      <td>NaN</td>\n",
       "      <td>NaN</td>\n",
       "      <td>NaN</td>\n",
       "      <td>91.0</td>\n",
       "      <td>0.0</td>\n",
       "      <td>51.6</td>\n",
       "    </tr>\n",
       "    <tr>\n",
       "      <th>0</th>\n",
       "      <td>Xavier</td>\n",
       "      <td>Mexico City</td>\n",
       "      <td>40.0</td>\n",
       "      <td>86</td>\n",
       "      <td>88.0</td>\n",
       "      <td>NaN</td>\n",
       "      <td>NaN</td>\n",
       "      <td>NaN</td>\n",
       "      <td>NaN</td>\n",
       "      <td>71.0</td>\n",
       "      <td>0.0</td>\n",
       "      <td>63.1</td>\n",
       "    </tr>\n",
       "    <tr>\n",
       "      <th>1</th>\n",
       "      <td>Ann</td>\n",
       "      <td>Toronto</td>\n",
       "      <td>50.0</td>\n",
       "      <td>81</td>\n",
       "      <td>79.0</td>\n",
       "      <td>NaN</td>\n",
       "      <td>NaN</td>\n",
       "      <td>NaN</td>\n",
       "      <td>NaN</td>\n",
       "      <td>95.0</td>\n",
       "      <td>0.0</td>\n",
       "      <td>72.8</td>\n",
       "    </tr>\n",
       "    <tr>\n",
       "      <th>2</th>\n",
       "      <td>Jana</td>\n",
       "      <td>Prague</td>\n",
       "      <td>60.0</td>\n",
       "      <td>88</td>\n",
       "      <td>81.0</td>\n",
       "      <td>NaN</td>\n",
       "      <td>NaN</td>\n",
       "      <td>NaN</td>\n",
       "      <td>NaN</td>\n",
       "      <td>88.0</td>\n",
       "      <td>0.0</td>\n",
       "      <td>76.8</td>\n",
       "    </tr>\n",
       "  </tbody>\n",
       "</table>\n",
       "</div>"
      ],
      "text/plain": [
       "     name         city  py-score  django-score    -1    0    1   2   3  \\\n",
       "6    Nori        Osaka       0.0            90  84.0  NaN  NaN NaN NaN   \n",
       "5    Amal        Cairo       0.0            81  61.0  NaN  NaN NaN NaN   \n",
       "0  Xavier  Mexico City      40.0            86  88.0  NaN  NaN NaN NaN   \n",
       "1     Ann      Toronto      50.0            81  79.0  NaN  NaN NaN NaN   \n",
       "2    Jana       Prague      60.0            88  81.0  NaN  NaN NaN NaN   \n",
       "\n",
       "   js-score  total-score  total  \n",
       "6      80.0          0.0   51.0  \n",
       "5      91.0          0.0   51.6  \n",
       "0      71.0          0.0   63.1  \n",
       "1      95.0          0.0   72.8  \n",
       "2      88.0          0.0   76.8  "
      ]
     },
     "execution_count": 140,
     "metadata": {},
     "output_type": "execute_result"
    }
   ],
   "source": [
    "filter_ = df['django-score'] >= 80\n",
    "filter_\n",
    "#return values from df that correspond to True in filter_\n",
    "df[filter_]\n"
   ]
  },
  {
   "cell_type": "markdown",
   "id": "a196a605-5dec-45cd-9cd5-c89125934c68",
   "metadata": {
    "tags": []
   },
   "source": [
    "#can logical operator \n",
    "#df[(df['py-score'] >= 80) & (df['js-score'] >= 80)]\n",
    "df[(df['py-score'] >= 80) & (df['js-score'] >= 80)]\n",
    "df"
   ]
  },
  {
   "cell_type": "markdown",
   "id": "23ee31ea-6db3-40b7-9b9f-f6e32b9e27ab",
   "metadata": {},
   "source": [
    "## Determine Statistic\n",
    "pandas provides many statistical methods for DataFrames. You can get basic statistics for the numerical columns of a pandas DataFrame with .describe():"
   ]
  },
  {
   "cell_type": "code",
   "execution_count": 147,
   "id": "1c61ee3d-66d6-43ec-bc62-a2188fee8220",
   "metadata": {
    "tags": []
   },
   "outputs": [
    {
     "data": {
      "text/plain": [
       "<bound method NDFrame._add_numeric_operations.<locals>.mean of 4     0.0\n",
       "6     0.0\n",
       "5     0.0\n",
       "0    40.0\n",
       "1    50.0\n",
       "3    70.0\n",
       "2    60.0\n",
       "Name: py-score, dtype: float64>"
      ]
     },
     "execution_count": 147,
     "metadata": {},
     "output_type": "execute_result"
    }
   ],
   "source": [
    "df.describe()\n",
    "#df.mean()\n",
    "df['py-score'].mean"
   ]
  },
  {
   "cell_type": "markdown",
   "id": "11c1d3e9-ac74-46a1-93f0-4d16e95adab2",
   "metadata": {},
   "source": [
    "## Handling Missing Data\n",
    "Missing data is very common in data science and machine learning. But never fear! pandas has very powerful features for working with missing data. In fact, its documentation has an entire section dedicated to working with missing data.\n",
    "\n",
    "pandas usually represents missing data with NaN (not a number) values. In Python, you can get NaN with float('nan'), math.nan, or numpy.nan. Starting with pandas 1.0, newer types like BooleanDtype, Int8Dtype, Int16Dtype, Int32Dtype, and Int64Dtype use pandas.NA as a missing value."
   ]
  },
  {
   "cell_type": "code",
   "execution_count": 148,
   "id": "7cf6230c-40d1-4499-997c-113e7117323d",
   "metadata": {
    "tags": []
   },
   "outputs": [
    {
     "data": {
      "text/html": [
       "<div>\n",
       "<style scoped>\n",
       "    .dataframe tbody tr th:only-of-type {\n",
       "        vertical-align: middle;\n",
       "    }\n",
       "\n",
       "    .dataframe tbody tr th {\n",
       "        vertical-align: top;\n",
       "    }\n",
       "\n",
       "    .dataframe thead th {\n",
       "        text-align: right;\n",
       "    }\n",
       "</style>\n",
       "<table border=\"1\" class=\"dataframe\">\n",
       "  <thead>\n",
       "    <tr style=\"text-align: right;\">\n",
       "      <th></th>\n",
       "      <th>x</th>\n",
       "    </tr>\n",
       "  </thead>\n",
       "  <tbody>\n",
       "    <tr>\n",
       "      <th>0</th>\n",
       "      <td>1.0</td>\n",
       "    </tr>\n",
       "    <tr>\n",
       "      <th>1</th>\n",
       "      <td>2.0</td>\n",
       "    </tr>\n",
       "    <tr>\n",
       "      <th>2</th>\n",
       "      <td>NaN</td>\n",
       "    </tr>\n",
       "    <tr>\n",
       "      <th>3</th>\n",
       "      <td>4.0</td>\n",
       "    </tr>\n",
       "  </tbody>\n",
       "</table>\n",
       "</div>"
      ],
      "text/plain": [
       "     x\n",
       "0  1.0\n",
       "1  2.0\n",
       "2  NaN\n",
       "3  4.0"
      ]
     },
     "execution_count": 148,
     "metadata": {},
     "output_type": "execute_result"
    }
   ],
   "source": [
    "df_  = pd.DataFrame({'x':[1,2,np.nan,4]})\n",
    "df_"
   ]
  },
  {
   "cell_type": "markdown",
   "id": "b2d1c136-87ff-4365-b704-5bddf5f6f33a",
   "metadata": {},
   "source": [
    "## Calculating With Missing Data\n",
    "Many pandas methods omit nan values when performing calculations unless they are explicitly instructed not to:\n",
    "## Filling Missing Data\n",
    "\n",
    "pandas has several options for filling, or replacing, missing values with other values. One of the most convenient methods is .fillna(). You can use it to replace missing values with:\n",
    "\n",
    "    Specified values\n",
    "    The values above the missing value\n",
    "    The values below the missing value\n",
    "\n",
    "Here’s how you can apply the options mentioned above:"
   ]
  },
  {
   "cell_type": "code",
   "execution_count": 153,
   "id": "258876b9-dd22-443c-a8d9-ef90e31de431",
   "metadata": {
    "tags": []
   },
   "outputs": [
    {
     "data": {
      "text/html": [
       "<div>\n",
       "<style scoped>\n",
       "    .dataframe tbody tr th:only-of-type {\n",
       "        vertical-align: middle;\n",
       "    }\n",
       "\n",
       "    .dataframe tbody tr th {\n",
       "        vertical-align: top;\n",
       "    }\n",
       "\n",
       "    .dataframe thead th {\n",
       "        text-align: right;\n",
       "    }\n",
       "</style>\n",
       "<table border=\"1\" class=\"dataframe\">\n",
       "  <thead>\n",
       "    <tr style=\"text-align: right;\">\n",
       "      <th></th>\n",
       "      <th>name</th>\n",
       "      <th>city</th>\n",
       "      <th>py-score</th>\n",
       "      <th>django-score</th>\n",
       "      <th>-1</th>\n",
       "      <th>0</th>\n",
       "      <th>1</th>\n",
       "      <th>2</th>\n",
       "      <th>3</th>\n",
       "      <th>js-score</th>\n",
       "      <th>total-score</th>\n",
       "      <th>total</th>\n",
       "    </tr>\n",
       "  </thead>\n",
       "  <tbody>\n",
       "    <tr>\n",
       "      <th>4</th>\n",
       "      <td>Robin</td>\n",
       "      <td>Manchester</td>\n",
       "      <td>0.0</td>\n",
       "      <td>70</td>\n",
       "      <td>68.0</td>\n",
       "      <td>0</td>\n",
       "      <td>0</td>\n",
       "      <td>0.0</td>\n",
       "      <td>0.0</td>\n",
       "      <td>91.0</td>\n",
       "      <td>0.0</td>\n",
       "      <td>48.3</td>\n",
       "    </tr>\n",
       "    <tr>\n",
       "      <th>6</th>\n",
       "      <td>Nori</td>\n",
       "      <td>Osaka</td>\n",
       "      <td>0.0</td>\n",
       "      <td>90</td>\n",
       "      <td>84.0</td>\n",
       "      <td>0</td>\n",
       "      <td>0</td>\n",
       "      <td>0.0</td>\n",
       "      <td>0.0</td>\n",
       "      <td>80.0</td>\n",
       "      <td>0.0</td>\n",
       "      <td>51.0</td>\n",
       "    </tr>\n",
       "    <tr>\n",
       "      <th>5</th>\n",
       "      <td>Amal</td>\n",
       "      <td>Cairo</td>\n",
       "      <td>0.0</td>\n",
       "      <td>81</td>\n",
       "      <td>61.0</td>\n",
       "      <td>0</td>\n",
       "      <td>0</td>\n",
       "      <td>0.0</td>\n",
       "      <td>0.0</td>\n",
       "      <td>91.0</td>\n",
       "      <td>0.0</td>\n",
       "      <td>51.6</td>\n",
       "    </tr>\n",
       "    <tr>\n",
       "      <th>0</th>\n",
       "      <td>Xavier</td>\n",
       "      <td>Mexico City</td>\n",
       "      <td>40.0</td>\n",
       "      <td>86</td>\n",
       "      <td>88.0</td>\n",
       "      <td>0</td>\n",
       "      <td>0</td>\n",
       "      <td>0.0</td>\n",
       "      <td>0.0</td>\n",
       "      <td>71.0</td>\n",
       "      <td>0.0</td>\n",
       "      <td>63.1</td>\n",
       "    </tr>\n",
       "    <tr>\n",
       "      <th>1</th>\n",
       "      <td>Ann</td>\n",
       "      <td>Toronto</td>\n",
       "      <td>50.0</td>\n",
       "      <td>81</td>\n",
       "      <td>79.0</td>\n",
       "      <td>0</td>\n",
       "      <td>0</td>\n",
       "      <td>0.0</td>\n",
       "      <td>0.0</td>\n",
       "      <td>95.0</td>\n",
       "      <td>0.0</td>\n",
       "      <td>72.8</td>\n",
       "    </tr>\n",
       "    <tr>\n",
       "      <th>3</th>\n",
       "      <td>Yi</td>\n",
       "      <td>Shanghai</td>\n",
       "      <td>70.0</td>\n",
       "      <td>74</td>\n",
       "      <td>80.0</td>\n",
       "      <td>0</td>\n",
       "      <td>0</td>\n",
       "      <td>0.0</td>\n",
       "      <td>0.0</td>\n",
       "      <td>79.0</td>\n",
       "      <td>0.0</td>\n",
       "      <td>73.9</td>\n",
       "    </tr>\n",
       "    <tr>\n",
       "      <th>2</th>\n",
       "      <td>Jana</td>\n",
       "      <td>Prague</td>\n",
       "      <td>60.0</td>\n",
       "      <td>88</td>\n",
       "      <td>81.0</td>\n",
       "      <td>0</td>\n",
       "      <td>0</td>\n",
       "      <td>0.0</td>\n",
       "      <td>0.0</td>\n",
       "      <td>88.0</td>\n",
       "      <td>0.0</td>\n",
       "      <td>76.8</td>\n",
       "    </tr>\n",
       "  </tbody>\n",
       "</table>\n",
       "</div>"
      ],
      "text/plain": [
       "     name         city  py-score  django-score    -1  0  1    2    3  \\\n",
       "4   Robin   Manchester       0.0            70  68.0  0  0  0.0  0.0   \n",
       "6    Nori        Osaka       0.0            90  84.0  0  0  0.0  0.0   \n",
       "5    Amal        Cairo       0.0            81  61.0  0  0  0.0  0.0   \n",
       "0  Xavier  Mexico City      40.0            86  88.0  0  0  0.0  0.0   \n",
       "1     Ann      Toronto      50.0            81  79.0  0  0  0.0  0.0   \n",
       "3      Yi     Shanghai      70.0            74  80.0  0  0  0.0  0.0   \n",
       "2    Jana       Prague      60.0            88  81.0  0  0  0.0  0.0   \n",
       "\n",
       "   js-score  total-score  total  \n",
       "4      91.0          0.0   48.3  \n",
       "6      80.0          0.0   51.0  \n",
       "5      91.0          0.0   51.6  \n",
       "0      71.0          0.0   63.1  \n",
       "1      95.0          0.0   72.8  \n",
       "3      79.0          0.0   73.9  \n",
       "2      88.0          0.0   76.8  "
      ]
     },
     "execution_count": 153,
     "metadata": {},
     "output_type": "execute_result"
    }
   ],
   "source": [
    "#Filling Missing Data with .fillna() method\n",
    "df.fillna(value = 0)\n",
    "#df.fillna(method = 'ffill') # replace missing value with value above it\n",
    "#df.fillna(method = 'bfill')"
   ]
  },
  {
   "cell_type": "markdown",
   "id": "d83de14f-b21a-480d-9451-8c4c1a07ec46",
   "metadata": {},
   "source": [
    "## Deleting Row and Columns with Missing Data\n"
   ]
  },
  {
   "cell_type": "code",
   "execution_count": 156,
   "id": "253d2a04-56e3-4502-95ce-b34b720e8015",
   "metadata": {
    "tags": []
   },
   "outputs": [
    {
     "name": "stdout",
     "output_type": "stream",
     "text": [
      "Pandas(Index=4, name='Robin', city='Manchester', total=48.3)\n",
      "Pandas(Index=6, name='Nori', city='Osaka', total=51.0)\n",
      "Pandas(Index=5, name='Amal', city='Cairo', total=51.6)\n",
      "Pandas(Index=0, name='Xavier', city='Mexico City', total=63.099999999999994)\n",
      "Pandas(Index=1, name='Ann', city='Toronto', total=72.8)\n",
      "Pandas(Index=3, name='Yi', city='Shanghai', total=73.9)\n",
      "Pandas(Index=2, name='Jana', city='Prague', total=76.8)\n"
     ]
    }
   ],
   "source": [
    "\"\"\"for col_label, col in df.iteritems():\n",
    "    print(col_label, col, sep='\\n', end='\\n\\n')\"\"\"\n",
    "for row in df.loc[:, ['name', 'city', 'total']].itertuples():\n",
    "    print(row)\n"
   ]
  },
  {
   "cell_type": "code",
   "execution_count": 46,
   "id": "7d54a300-d917-4aab-98c5-477c7a01f581",
   "metadata": {
    "tags": []
   },
   "outputs": [
    {
     "data": {
      "text/plain": [
       "10    Mexico City\n",
       "11        Toronto\n",
       "12         Prague\n",
       "13       Shanghai\n",
       "14     Manchester\n",
       "15          Cairo\n",
       "16          Osaka\n",
       "Name: city, dtype: object"
      ]
     },
     "execution_count": 46,
     "metadata": {},
     "output_type": "execute_result"
    }
   ],
   "source": [
    "#You can access/get columns from a pandas DataFrame\n",
    "cities = df['city']\n",
    "#df.city             #if column name is valid\n",
    "cities"
   ]
  },
  {
   "cell_type": "code",
   "execution_count": 21,
   "id": "216df2aa-a8b5-4731-b736-3325eb434b1a",
   "metadata": {
    "tags": []
   },
   "outputs": [
    {
     "data": {
      "text/plain": [
       "name             Robin\n",
       "city        Manchester\n",
       "age                 38\n",
       "py-score          68.0\n",
       "Name: 105, dtype: object"
      ]
     },
     "execution_count": 21,
     "metadata": {},
     "output_type": "execute_result"
    }
   ],
   "source": [
    "cities[101]  #get particular item from DataFrame using Dictionary\n",
    "#accessor.loc[]\n",
    "df.loc[105]"
   ]
  },
  {
   "cell_type": "code",
   "execution_count": 23,
   "id": "e4126fb7-5b83-4172-a182-02c01da5f048",
   "metadata": {
    "tags": []
   },
   "outputs": [
    {
     "data": {
      "text/html": [
       "<div>\n",
       "<style scoped>\n",
       "    .dataframe tbody tr th:only-of-type {\n",
       "        vertical-align: middle;\n",
       "    }\n",
       "\n",
       "    .dataframe tbody tr th {\n",
       "        vertical-align: top;\n",
       "    }\n",
       "\n",
       "    .dataframe thead th {\n",
       "        text-align: right;\n",
       "    }\n",
       "</style>\n",
       "<table border=\"1\" class=\"dataframe\">\n",
       "  <thead>\n",
       "    <tr style=\"text-align: right;\">\n",
       "      <th></th>\n",
       "      <th>x</th>\n",
       "      <th>y</th>\n",
       "      <th>z</th>\n",
       "    </tr>\n",
       "  </thead>\n",
       "  <tbody>\n",
       "    <tr>\n",
       "      <th>0</th>\n",
       "      <td>1</td>\n",
       "      <td>2</td>\n",
       "      <td>10</td>\n",
       "    </tr>\n",
       "    <tr>\n",
       "      <th>1</th>\n",
       "      <td>2</td>\n",
       "      <td>4</td>\n",
       "      <td>10</td>\n",
       "    </tr>\n",
       "    <tr>\n",
       "      <th>2</th>\n",
       "      <td>3</td>\n",
       "      <td>8</td>\n",
       "      <td>10</td>\n",
       "    </tr>\n",
       "  </tbody>\n",
       "</table>\n",
       "</div>"
      ],
      "text/plain": [
       "   x  y   z\n",
       "0  1  2  10\n",
       "1  2  4  10\n",
       "2  3  8  10"
      ]
     },
     "execution_count": 23,
     "metadata": {},
     "output_type": "execute_result"
    }
   ],
   "source": [
    "#Creating a Pandas DataFrame\n",
    "import numpy as np\n",
    "import pandas as pd\n",
    "#creating DataFrame with Dictionary\n",
    "#Can Use list,tuple,dictionary,Series for making DataFrame\n",
    "\n",
    "d = {'x':[1,2,3],'y':np.array([2,4,8]),'z':10}\n",
    "pd.DataFrame(d)"
   ]
  },
  {
   "cell_type": "code",
   "execution_count": 24,
   "id": "ac579b94-f4fa-4117-86b2-a8266c41deb5",
   "metadata": {
    "tags": []
   },
   "outputs": [
    {
     "data": {
      "text/html": [
       "<div>\n",
       "<style scoped>\n",
       "    .dataframe tbody tr th:only-of-type {\n",
       "        vertical-align: middle;\n",
       "    }\n",
       "\n",
       "    .dataframe tbody tr th {\n",
       "        vertical-align: top;\n",
       "    }\n",
       "\n",
       "    .dataframe thead th {\n",
       "        text-align: right;\n",
       "    }\n",
       "</style>\n",
       "<table border=\"1\" class=\"dataframe\">\n",
       "  <thead>\n",
       "    <tr style=\"text-align: right;\">\n",
       "      <th></th>\n",
       "      <th>x</th>\n",
       "      <th>y</th>\n",
       "      <th>z</th>\n",
       "    </tr>\n",
       "  </thead>\n",
       "  <tbody>\n",
       "    <tr>\n",
       "      <th>100</th>\n",
       "      <td>1</td>\n",
       "      <td>2</td>\n",
       "      <td>10</td>\n",
       "    </tr>\n",
       "    <tr>\n",
       "      <th>200</th>\n",
       "      <td>2</td>\n",
       "      <td>4</td>\n",
       "      <td>10</td>\n",
       "    </tr>\n",
       "    <tr>\n",
       "      <th>300</th>\n",
       "      <td>3</td>\n",
       "      <td>8</td>\n",
       "      <td>10</td>\n",
       "    </tr>\n",
       "  </tbody>\n",
       "</table>\n",
       "</div>"
      ],
      "text/plain": [
       "     x  y   z\n",
       "100  1  2  10\n",
       "200  2  4  10\n",
       "300  3  8  10"
      ]
     },
     "execution_count": 24,
     "metadata": {},
     "output_type": "execute_result"
    }
   ],
   "source": [
    "#order of columns with columns parameter \n",
    "pd.DataFrame(d,index = [100,200,300],columns = ['x','y','z'])\n"
   ]
  },
  {
   "cell_type": "code",
   "execution_count": null,
   "id": "dd500556-11dc-49d2-aed4-99e61372ffdf",
   "metadata": {},
   "outputs": [],
   "source": []
  },
  {
   "cell_type": "code",
   "execution_count": 25,
   "id": "e2dc6957-e1f3-4d19-9a4a-88390dce1346",
   "metadata": {
    "tags": []
   },
   "outputs": [
    {
     "data": {
      "text/html": [
       "<div>\n",
       "<style scoped>\n",
       "    .dataframe tbody tr th:only-of-type {\n",
       "        vertical-align: middle;\n",
       "    }\n",
       "\n",
       "    .dataframe tbody tr th {\n",
       "        vertical-align: top;\n",
       "    }\n",
       "\n",
       "    .dataframe thead th {\n",
       "        text-align: right;\n",
       "    }\n",
       "</style>\n",
       "<table border=\"1\" class=\"dataframe\">\n",
       "  <thead>\n",
       "    <tr style=\"text-align: right;\">\n",
       "      <th></th>\n",
       "      <th>x</th>\n",
       "      <th>y</th>\n",
       "      <th>z</th>\n",
       "    </tr>\n",
       "  </thead>\n",
       "  <tbody>\n",
       "    <tr>\n",
       "      <th>0</th>\n",
       "      <td>1</td>\n",
       "      <td>2</td>\n",
       "      <td>100</td>\n",
       "    </tr>\n",
       "    <tr>\n",
       "      <th>1</th>\n",
       "      <td>2</td>\n",
       "      <td>4</td>\n",
       "      <td>100</td>\n",
       "    </tr>\n",
       "    <tr>\n",
       "      <th>2</th>\n",
       "      <td>3</td>\n",
       "      <td>8</td>\n",
       "      <td>100</td>\n",
       "    </tr>\n",
       "  </tbody>\n",
       "</table>\n",
       "</div>"
      ],
      "text/plain": [
       "   x  y    z\n",
       "0  1  2  100\n",
       "1  2  4  100\n",
       "2  3  8  100"
      ]
     },
     "execution_count": 25,
     "metadata": {},
     "output_type": "execute_result"
    }
   ],
   "source": [
    "#Creating Pandas DataFrame with lists\n",
    "x_list = [\n",
    "    {'x':1,'y':2,'z':100},\n",
    "    {'x':2,'y':4,'z':100},\n",
    "    {'x':3,'y':8,'z':100}\n",
    "]\n",
    "pd.DataFrame(x_list)"
   ]
  },
  {
   "cell_type": "code",
   "execution_count": 26,
   "id": "17cfdab2-e563-49a9-b73f-98f4c28ad9b6",
   "metadata": {},
   "outputs": [
    {
     "data": {
      "text/html": [
       "<div>\n",
       "<style scoped>\n",
       "    .dataframe tbody tr th:only-of-type {\n",
       "        vertical-align: middle;\n",
       "    }\n",
       "\n",
       "    .dataframe tbody tr th {\n",
       "        vertical-align: top;\n",
       "    }\n",
       "\n",
       "    .dataframe thead th {\n",
       "        text-align: right;\n",
       "    }\n",
       "</style>\n",
       "<table border=\"1\" class=\"dataframe\">\n",
       "  <thead>\n",
       "    <tr style=\"text-align: right;\">\n",
       "      <th></th>\n",
       "      <th>x</th>\n",
       "      <th>y</th>\n",
       "      <th>z</th>\n",
       "    </tr>\n",
       "  </thead>\n",
       "  <tbody>\n",
       "    <tr>\n",
       "      <th>0</th>\n",
       "      <td>1</td>\n",
       "      <td>2</td>\n",
       "      <td>100</td>\n",
       "    </tr>\n",
       "    <tr>\n",
       "      <th>1</th>\n",
       "      <td>2</td>\n",
       "      <td>4</td>\n",
       "      <td>100</td>\n",
       "    </tr>\n",
       "    <tr>\n",
       "      <th>2</th>\n",
       "      <td>3</td>\n",
       "      <td>8</td>\n",
       "      <td>100</td>\n",
       "    </tr>\n",
       "  </tbody>\n",
       "</table>\n",
       "</div>"
      ],
      "text/plain": [
       "   x  y    z\n",
       "0  1  2  100\n",
       "1  2  4  100\n",
       "2  3  8  100"
      ]
     },
     "execution_count": 26,
     "metadata": {},
     "output_type": "execute_result"
    }
   ],
   "source": [
    "#can use dictionary key are the columns labels, and dictionay values are the data values in the DataFrame\n",
    "y_list = [[1,2,100],[2,4,100],[3,8,100]]\n",
    "pd.DataFrame(y_list,columns = ['x','y','z'])"
   ]
  },
  {
   "cell_type": "code",
   "execution_count": 28,
   "id": "3dccbb01-8e96-4e81-a6e5-1a1c62c581da",
   "metadata": {},
   "outputs": [
    {
     "data": {
      "text/html": [
       "<div>\n",
       "<style scoped>\n",
       "    .dataframe tbody tr th:only-of-type {\n",
       "        vertical-align: middle;\n",
       "    }\n",
       "\n",
       "    .dataframe tbody tr th {\n",
       "        vertical-align: top;\n",
       "    }\n",
       "\n",
       "    .dataframe thead th {\n",
       "        text-align: right;\n",
       "    }\n",
       "</style>\n",
       "<table border=\"1\" class=\"dataframe\">\n",
       "  <thead>\n",
       "    <tr style=\"text-align: right;\">\n",
       "      <th></th>\n",
       "      <th>x</th>\n",
       "      <th>y</th>\n",
       "      <th>z</th>\n",
       "    </tr>\n",
       "  </thead>\n",
       "  <tbody>\n",
       "    <tr>\n",
       "      <th>0</th>\n",
       "      <td>1</td>\n",
       "      <td>2</td>\n",
       "      <td>100</td>\n",
       "    </tr>\n",
       "    <tr>\n",
       "      <th>1</th>\n",
       "      <td>2</td>\n",
       "      <td>4</td>\n",
       "      <td>100</td>\n",
       "    </tr>\n",
       "    <tr>\n",
       "      <th>2</th>\n",
       "      <td>3</td>\n",
       "      <td>8</td>\n",
       "      <td>100</td>\n",
       "    </tr>\n",
       "  </tbody>\n",
       "</table>\n",
       "</div>"
      ],
      "text/plain": [
       "   x  y    z\n",
       "0  1  2  100\n",
       "1  2  4  100\n",
       "2  3  8  100"
      ]
     },
     "execution_count": 28,
     "metadata": {},
     "output_type": "execute_result"
    }
   ],
   "source": [
    "#Creating A Pandas DataFrame With Numpy Arrays\n",
    "arr = np.array([[1,2,100],[2,4,100],[3,8,100]])\n",
    "df_ = pd.DataFrame(arr,columns = ['x','y','z'])\n",
    "df_"
   ]
  },
  {
   "cell_type": "markdown",
   "id": "4668e026-3511-4291-801f-be5f72656448",
   "metadata": {},
   "source": [
    "### Working With Time Series\n",
    "pandas excels at handling time series. Although this functionality is partly based on NumPy datetimes and timedeltas, pandas provides much more flexibility.\n",
    "\n",
    "#### Creating DataFrames With Time-Series Labels"
   ]
  },
  {
   "cell_type": "code",
   "execution_count": 157,
   "id": "346fbe08-2cde-4ebd-9c97-cc2ef13b6403",
   "metadata": {
    "tags": []
   },
   "outputs": [
    {
     "data": {
      "text/plain": [
       "DatetimeIndex(['2019-10-27 00:00:00', '2019-10-27 01:00:00',\n",
       "               '2019-10-27 02:00:00', '2019-10-27 03:00:00',\n",
       "               '2019-10-27 04:00:00', '2019-10-27 05:00:00',\n",
       "               '2019-10-27 06:00:00', '2019-10-27 07:00:00',\n",
       "               '2019-10-27 08:00:00', '2019-10-27 09:00:00',\n",
       "               '2019-10-27 10:00:00', '2019-10-27 11:00:00',\n",
       "               '2019-10-27 12:00:00', '2019-10-27 13:00:00',\n",
       "               '2019-10-27 14:00:00', '2019-10-27 15:00:00',\n",
       "               '2019-10-27 16:00:00', '2019-10-27 17:00:00',\n",
       "               '2019-10-27 18:00:00', '2019-10-27 19:00:00',\n",
       "               '2019-10-27 20:00:00', '2019-10-27 21:00:00',\n",
       "               '2019-10-27 22:00:00', '2019-10-27 23:00:00'],\n",
       "              dtype='datetime64[ns]', freq='H')"
      ]
     },
     "execution_count": 157,
     "metadata": {},
     "output_type": "execute_result"
    }
   ],
   "source": [
    "temp_c = [ 8.0,  7.1,  6.8,  6.4,  6.0,  5.4,  4.8,  5.0,\n",
    "           9.1, 12.8, 15.3, 19.1, 21.2, 22.1, 22.4, 23.1,\n",
    "          21.0, 17.9, 15.5, 14.4, 11.9, 11.0, 10.2,  9.1]\n",
    "dt = pd.date_range(start='2019-10-27 00:00:00.0', periods=24,\n",
    "                   freq='H')\n",
    "dt\n"
   ]
  },
  {
   "cell_type": "code",
   "execution_count": 158,
   "id": "cd7d2361-75f5-4f61-86cd-cd80de4f3f68",
   "metadata": {
    "tags": []
   },
   "outputs": [
    {
     "data": {
      "text/html": [
       "<div>\n",
       "<style scoped>\n",
       "    .dataframe tbody tr th:only-of-type {\n",
       "        vertical-align: middle;\n",
       "    }\n",
       "\n",
       "    .dataframe tbody tr th {\n",
       "        vertical-align: top;\n",
       "    }\n",
       "\n",
       "    .dataframe thead th {\n",
       "        text-align: right;\n",
       "    }\n",
       "</style>\n",
       "<table border=\"1\" class=\"dataframe\">\n",
       "  <thead>\n",
       "    <tr style=\"text-align: right;\">\n",
       "      <th></th>\n",
       "      <th>temp_c</th>\n",
       "    </tr>\n",
       "  </thead>\n",
       "  <tbody>\n",
       "    <tr>\n",
       "      <th>2019-10-27 00:00:00</th>\n",
       "      <td>8.0</td>\n",
       "    </tr>\n",
       "    <tr>\n",
       "      <th>2019-10-27 01:00:00</th>\n",
       "      <td>7.1</td>\n",
       "    </tr>\n",
       "    <tr>\n",
       "      <th>2019-10-27 02:00:00</th>\n",
       "      <td>6.8</td>\n",
       "    </tr>\n",
       "    <tr>\n",
       "      <th>2019-10-27 03:00:00</th>\n",
       "      <td>6.4</td>\n",
       "    </tr>\n",
       "    <tr>\n",
       "      <th>2019-10-27 04:00:00</th>\n",
       "      <td>6.0</td>\n",
       "    </tr>\n",
       "    <tr>\n",
       "      <th>2019-10-27 05:00:00</th>\n",
       "      <td>5.4</td>\n",
       "    </tr>\n",
       "    <tr>\n",
       "      <th>2019-10-27 06:00:00</th>\n",
       "      <td>4.8</td>\n",
       "    </tr>\n",
       "    <tr>\n",
       "      <th>2019-10-27 07:00:00</th>\n",
       "      <td>5.0</td>\n",
       "    </tr>\n",
       "    <tr>\n",
       "      <th>2019-10-27 08:00:00</th>\n",
       "      <td>9.1</td>\n",
       "    </tr>\n",
       "    <tr>\n",
       "      <th>2019-10-27 09:00:00</th>\n",
       "      <td>12.8</td>\n",
       "    </tr>\n",
       "    <tr>\n",
       "      <th>2019-10-27 10:00:00</th>\n",
       "      <td>15.3</td>\n",
       "    </tr>\n",
       "    <tr>\n",
       "      <th>2019-10-27 11:00:00</th>\n",
       "      <td>19.1</td>\n",
       "    </tr>\n",
       "    <tr>\n",
       "      <th>2019-10-27 12:00:00</th>\n",
       "      <td>21.2</td>\n",
       "    </tr>\n",
       "    <tr>\n",
       "      <th>2019-10-27 13:00:00</th>\n",
       "      <td>22.1</td>\n",
       "    </tr>\n",
       "    <tr>\n",
       "      <th>2019-10-27 14:00:00</th>\n",
       "      <td>22.4</td>\n",
       "    </tr>\n",
       "    <tr>\n",
       "      <th>2019-10-27 15:00:00</th>\n",
       "      <td>23.1</td>\n",
       "    </tr>\n",
       "    <tr>\n",
       "      <th>2019-10-27 16:00:00</th>\n",
       "      <td>21.0</td>\n",
       "    </tr>\n",
       "    <tr>\n",
       "      <th>2019-10-27 17:00:00</th>\n",
       "      <td>17.9</td>\n",
       "    </tr>\n",
       "    <tr>\n",
       "      <th>2019-10-27 18:00:00</th>\n",
       "      <td>15.5</td>\n",
       "    </tr>\n",
       "    <tr>\n",
       "      <th>2019-10-27 19:00:00</th>\n",
       "      <td>14.4</td>\n",
       "    </tr>\n",
       "    <tr>\n",
       "      <th>2019-10-27 20:00:00</th>\n",
       "      <td>11.9</td>\n",
       "    </tr>\n",
       "    <tr>\n",
       "      <th>2019-10-27 21:00:00</th>\n",
       "      <td>11.0</td>\n",
       "    </tr>\n",
       "    <tr>\n",
       "      <th>2019-10-27 22:00:00</th>\n",
       "      <td>10.2</td>\n",
       "    </tr>\n",
       "    <tr>\n",
       "      <th>2019-10-27 23:00:00</th>\n",
       "      <td>9.1</td>\n",
       "    </tr>\n",
       "  </tbody>\n",
       "</table>\n",
       "</div>"
      ],
      "text/plain": [
       "                     temp_c\n",
       "2019-10-27 00:00:00     8.0\n",
       "2019-10-27 01:00:00     7.1\n",
       "2019-10-27 02:00:00     6.8\n",
       "2019-10-27 03:00:00     6.4\n",
       "2019-10-27 04:00:00     6.0\n",
       "2019-10-27 05:00:00     5.4\n",
       "2019-10-27 06:00:00     4.8\n",
       "2019-10-27 07:00:00     5.0\n",
       "2019-10-27 08:00:00     9.1\n",
       "2019-10-27 09:00:00    12.8\n",
       "2019-10-27 10:00:00    15.3\n",
       "2019-10-27 11:00:00    19.1\n",
       "2019-10-27 12:00:00    21.2\n",
       "2019-10-27 13:00:00    22.1\n",
       "2019-10-27 14:00:00    22.4\n",
       "2019-10-27 15:00:00    23.1\n",
       "2019-10-27 16:00:00    21.0\n",
       "2019-10-27 17:00:00    17.9\n",
       "2019-10-27 18:00:00    15.5\n",
       "2019-10-27 19:00:00    14.4\n",
       "2019-10-27 20:00:00    11.9\n",
       "2019-10-27 21:00:00    11.0\n",
       "2019-10-27 22:00:00    10.2\n",
       "2019-10-27 23:00:00     9.1"
      ]
     },
     "execution_count": 158,
     "metadata": {},
     "output_type": "execute_result"
    }
   ],
   "source": [
    "temp = pd.DataFrame(data={'temp_c': temp_c}, index=dt)\n",
    "temp"
   ]
  },
  {
   "cell_type": "code",
   "execution_count": 159,
   "id": "13763b1d-9699-4052-84cc-8b73b3b28fa4",
   "metadata": {
    "tags": []
   },
   "outputs": [
    {
     "data": {
      "text/html": [
       "<div>\n",
       "<style scoped>\n",
       "    .dataframe tbody tr th:only-of-type {\n",
       "        vertical-align: middle;\n",
       "    }\n",
       "\n",
       "    .dataframe tbody tr th {\n",
       "        vertical-align: top;\n",
       "    }\n",
       "\n",
       "    .dataframe thead th {\n",
       "        text-align: right;\n",
       "    }\n",
       "</style>\n",
       "<table border=\"1\" class=\"dataframe\">\n",
       "  <thead>\n",
       "    <tr style=\"text-align: right;\">\n",
       "      <th></th>\n",
       "      <th>temp_c</th>\n",
       "    </tr>\n",
       "  </thead>\n",
       "  <tbody>\n",
       "    <tr>\n",
       "      <th>2019-10-27 05:00:00</th>\n",
       "      <td>5.4</td>\n",
       "    </tr>\n",
       "    <tr>\n",
       "      <th>2019-10-27 06:00:00</th>\n",
       "      <td>4.8</td>\n",
       "    </tr>\n",
       "    <tr>\n",
       "      <th>2019-10-27 07:00:00</th>\n",
       "      <td>5.0</td>\n",
       "    </tr>\n",
       "    <tr>\n",
       "      <th>2019-10-27 08:00:00</th>\n",
       "      <td>9.1</td>\n",
       "    </tr>\n",
       "    <tr>\n",
       "      <th>2019-10-27 09:00:00</th>\n",
       "      <td>12.8</td>\n",
       "    </tr>\n",
       "    <tr>\n",
       "      <th>2019-10-27 10:00:00</th>\n",
       "      <td>15.3</td>\n",
       "    </tr>\n",
       "    <tr>\n",
       "      <th>2019-10-27 11:00:00</th>\n",
       "      <td>19.1</td>\n",
       "    </tr>\n",
       "    <tr>\n",
       "      <th>2019-10-27 12:00:00</th>\n",
       "      <td>21.2</td>\n",
       "    </tr>\n",
       "    <tr>\n",
       "      <th>2019-10-27 13:00:00</th>\n",
       "      <td>22.1</td>\n",
       "    </tr>\n",
       "    <tr>\n",
       "      <th>2019-10-27 14:00:00</th>\n",
       "      <td>22.4</td>\n",
       "    </tr>\n",
       "  </tbody>\n",
       "</table>\n",
       "</div>"
      ],
      "text/plain": [
       "                     temp_c\n",
       "2019-10-27 05:00:00     5.4\n",
       "2019-10-27 06:00:00     4.8\n",
       "2019-10-27 07:00:00     5.0\n",
       "2019-10-27 08:00:00     9.1\n",
       "2019-10-27 09:00:00    12.8\n",
       "2019-10-27 10:00:00    15.3\n",
       "2019-10-27 11:00:00    19.1\n",
       "2019-10-27 12:00:00    21.2\n",
       "2019-10-27 13:00:00    22.1\n",
       "2019-10-27 14:00:00    22.4"
      ]
     },
     "execution_count": 159,
     "metadata": {},
     "output_type": "execute_result"
    }
   ],
   "source": [
    "temp['2019-10-27 05':'2019-10-27 14']"
   ]
  },
  {
   "cell_type": "markdown",
   "id": "e4f9bb8d-aae9-4be5-827e-97ebaceda316",
   "metadata": {},
   "source": [
    "### Plotting With pandas DataFrames\n",
    "pandas allows you to visualize data or create plots based on DataFrames. It uses Matplotlib in the background, so exploiting pandas’ plotting capabilities is very similar to working with Matplotlib.\n",
    "\n",
    "If you want to display the plots, then you first need to import matplotlib.pyplot:"
   ]
  },
  {
   "cell_type": "code",
   "execution_count": 166,
   "id": "802e7537-9e7b-47ca-af11-1203af09aa2f",
   "metadata": {
    "tags": []
   },
   "outputs": [
    {
     "data": {
      "text/plain": [
       "<pandas.plotting._core.PlotAccessor object at 0x7fd2802ffd90>"
      ]
     },
     "execution_count": 166,
     "metadata": {},
     "output_type": "execute_result"
    }
   ],
   "source": [
    "import matplotlib.pyplot as plt\n",
    "temp. plot\n"
   ]
  },
  {
   "cell_type": "code",
   "execution_count": 169,
   "id": "a69ba435-ce9f-446b-99f3-73a062cbb48a",
   "metadata": {
    "tags": []
   },
   "outputs": [],
   "source": [
    "plt.show()"
   ]
  },
  {
   "cell_type": "code",
   "execution_count": 168,
   "id": "2d84b9d9-ff82-44a0-82ac-859c933f7e35",
   "metadata": {
    "tags": []
   },
   "outputs": [
    {
     "data": {
      "image/png": "[encoded data removed]",
      "text/plain": [
       "<Figure size 640x480 with 1 Axes>"
      ]
     },
     "metadata": {},
     "output_type": "display_data"
    }
   ],
   "source": [
    "temp.plot().get_figure().savefig('temperatures.png')"
   ]
  },
  {
   "cell_type": "code",
   "execution_count": 170,
   "id": "5155bc7a-89cb-449b-b520-ec574b7b861b",
   "metadata": {
    "tags": []
   },
   "outputs": [
    {
     "data": {
      "image/png": "[encoded data removed]",
      "text/plain": [
       "<Figure size 640x480 with 1 Axes>"
      ]
     },
     "metadata": {},
     "output_type": "display_data"
    }
   ],
   "source": [
    "df.loc[:, ['py-score', 'total']].plot.hist(bins=5, alpha=0.4)\n",
    "\n",
    "plt.show()"
   ]
  },
  {
   "cell_type": "code",
   "execution_count": null,
   "id": "3d62fc71-00d3-4304-bba8-7b80bb045440",
   "metadata": {},
   "outputs": [],
   "source": []
  }
 ],
 "metadata": {
  "kernelspec": {
   "display_name": "Python 3 (ipykernel)",
   "language": "python",
   "name": "python3"
  },
  "language_info": {
   "codemirror_mode": {
    "name": "ipython",
    "version": 3
   },
   "file_extension": ".py",
   "mimetype": "text/x-python",
   "name": "python",
   "nbconvert_exporter": "python",
   "pygments_lexer": "ipython3",
   "version": "3.10.10"
  }
 },
 "nbformat": 4,
 "nbformat_minor": 5
}
